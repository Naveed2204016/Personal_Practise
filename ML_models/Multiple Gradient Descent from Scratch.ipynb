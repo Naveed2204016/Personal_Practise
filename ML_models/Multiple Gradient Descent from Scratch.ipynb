{
 "cells": [
  {
   "cell_type": "code",
   "execution_count": 2,
   "id": "0f39cc2b-f046-42dd-ad36-a7df44641050",
   "metadata": {},
   "outputs": [],
   "source": [
    "import numpy as np\n",
    "import pandas as pd\n",
    "from sklearn.datasets import load_diabetes"
   ]
  },
  {
   "cell_type": "code",
   "execution_count": 6,
   "id": "7446283e-ffe3-4e7a-8413-018c417acc8e",
   "metadata": {},
   "outputs": [],
   "source": [
    "X,y=load_diabetes(return_X_y=True)"
   ]
  },
  {
   "cell_type": "code",
   "execution_count": 7,
   "id": "35e6d95e-aef4-4caa-a564-b44495186e5a",
   "metadata": {},
   "outputs": [],
   "source": [
    "from sklearn.model_selection import train_test_split\n",
    "x_train,x_test,y_train,y_test=train_test_split(X,y,test_size=0.2,random_state=42)"
   ]
  },
  {
   "cell_type": "code",
   "execution_count": 31,
   "id": "3aecddb6-6eb1-42c2-b4fb-2b5340fad21e",
   "metadata": {},
   "outputs": [],
   "source": [
    "class GD:\n",
    "    def __init__(self,learning_rate=0.1,epoch=100):\n",
    "        self.intercept=None\n",
    "        self.coef=None\n",
    "        self.lr=learning_rate\n",
    "        self.epoch=epoch\n",
    "    def fit(self,x_train,y_train):\n",
    "        self.intercept=0\n",
    "        self.coef=np.ones(x_train.shape[1])\n",
    "\n",
    "        for i in range(self.epoch):\n",
    "            y_hat=self.intercept+np.dot(x_train,self.coef)\n",
    "            it_slope=-2*np.mean(y_train-y_hat)\n",
    "            self.intercept=self.intercept-self.lr*it_slope\n",
    "            co_slope=-2*np.dot((y_train-y_hat),x_train)/x_train.shape[0]\n",
    "            self.coef=self.coef-self.lr*co_slope\n",
    "        #print(self.intercept)\n",
    "        #print(self.coef)\n",
    "    def predict(self,x_test):\n",
    "        y_pred=self.intercept+np.dot(x_train,self.coef)\n",
    "        return y_pred"
   ]
  },
  {
   "cell_type": "code",
   "execution_count": 32,
   "id": "da865701-5688-4194-ab1b-74d67be77ed7",
   "metadata": {},
   "outputs": [],
   "source": [
    "gd=GD(0.01,1000)"
   ]
  },
  {
   "cell_type": "code",
   "execution_count": 33,
   "id": "2883171b-e72a-4073-88db-c9357608b9b6",
   "metadata": {},
   "outputs": [],
   "source": [
    "gd.fit(x_train,y_train)"
   ]
  },
  {
   "cell_type": "code",
   "execution_count": 28,
   "id": "e8c5f027-2800-4b22-bc9a-bb3acee002ce",
   "metadata": {},
   "outputs": [],
   "source": [
    "y_pred=gd.predict(x_test)"
   ]
  },
  {
   "cell_type": "code",
   "execution_count": 34,
   "id": "37d62e8c-2463-48ae-8b1e-fb7a4b22feb8",
   "metadata": {},
   "outputs": [
    {
     "data": {
      "text/plain": [
       "(353,)"
      ]
     },
     "execution_count": 34,
     "metadata": {},
     "output_type": "execute_result"
    }
   ],
   "source": [
    "y_pred.shape"
   ]
  },
  {
   "cell_type": "code",
   "execution_count": null,
   "id": "b40bf5b3-206d-4e98-896b-d6cb2b609ab8",
   "metadata": {},
   "outputs": [],
   "source": []
  }
 ],
 "metadata": {
  "kernelspec": {
   "display_name": "Python [conda env:base] *",
   "language": "python",
   "name": "conda-base-py"
  },
  "language_info": {
   "codemirror_mode": {
    "name": "ipython",
    "version": 3
   },
   "file_extension": ".py",
   "mimetype": "text/x-python",
   "name": "python",
   "nbconvert_exporter": "python",
   "pygments_lexer": "ipython3",
   "version": "3.12.7"
  }
 },
 "nbformat": 4,
 "nbformat_minor": 5
}
