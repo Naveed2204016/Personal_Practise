{
 "cells": [
  {
   "cell_type": "code",
   "execution_count": 1,
   "id": "3dd1fe75-7ead-492b-a1ce-ea493e9176b6",
   "metadata": {},
   "outputs": [],
   "source": [
    "import numpy as np\n",
    "import pandas as pd"
   ]
  },
  {
   "cell_type": "code",
   "execution_count": 2,
   "id": "e16ca7b9-6701-41e0-a729-394ab134af3d",
   "metadata": {},
   "outputs": [],
   "source": [
    "df=pd.read_csv('placement (3).csv')"
   ]
  },
  {
   "cell_type": "code",
   "execution_count": 3,
   "id": "e9b0ffe1-e6aa-40ba-8167-d4e3da65fa40",
   "metadata": {},
   "outputs": [
    {
     "data": {
      "text/html": [
       "<div>\n",
       "<style scoped>\n",
       "    .dataframe tbody tr th:only-of-type {\n",
       "        vertical-align: middle;\n",
       "    }\n",
       "\n",
       "    .dataframe tbody tr th {\n",
       "        vertical-align: top;\n",
       "    }\n",
       "\n",
       "    .dataframe thead th {\n",
       "        text-align: right;\n",
       "    }\n",
       "</style>\n",
       "<table border=\"1\" class=\"dataframe\">\n",
       "  <thead>\n",
       "    <tr style=\"text-align: right;\">\n",
       "      <th></th>\n",
       "      <th>cgpa</th>\n",
       "      <th>package</th>\n",
       "    </tr>\n",
       "  </thead>\n",
       "  <tbody>\n",
       "    <tr>\n",
       "      <th>71</th>\n",
       "      <td>7.47</td>\n",
       "      <td>3.34</td>\n",
       "    </tr>\n",
       "    <tr>\n",
       "      <th>175</th>\n",
       "      <td>7.04</td>\n",
       "      <td>3.50</td>\n",
       "    </tr>\n",
       "    <tr>\n",
       "      <th>131</th>\n",
       "      <td>6.37</td>\n",
       "      <td>2.01</td>\n",
       "    </tr>\n",
       "    <tr>\n",
       "      <th>21</th>\n",
       "      <td>6.85</td>\n",
       "      <td>2.93</td>\n",
       "    </tr>\n",
       "    <tr>\n",
       "      <th>130</th>\n",
       "      <td>6.68</td>\n",
       "      <td>2.49</td>\n",
       "    </tr>\n",
       "  </tbody>\n",
       "</table>\n",
       "</div>"
      ],
      "text/plain": [
       "     cgpa  package\n",
       "71   7.47     3.34\n",
       "175  7.04     3.50\n",
       "131  6.37     2.01\n",
       "21   6.85     2.93\n",
       "130  6.68     2.49"
      ]
     },
     "execution_count": 3,
     "metadata": {},
     "output_type": "execute_result"
    }
   ],
   "source": [
    "df.sample(5)"
   ]
  },
  {
   "cell_type": "code",
   "execution_count": 10,
   "id": "7dd8bbc3-5850-428f-904e-c2d9df198450",
   "metadata": {},
   "outputs": [],
   "source": [
    "class regression:\n",
    "    def __init__(self):\n",
    "        self.m=None\n",
    "        self.b=None\n",
    "    def fit(self,x_train,y_train):\n",
    "        num=0\n",
    "        den=0\n",
    "        for i in range(x_train.shape[0]):\n",
    "            num=num+((x_train[i]-x_train.mean())*(y_train[i]-y_train.mean()))\n",
    "            den=den+((x_train[i]-x_train.mean())*(x_train[i]-x_train.mean()))\n",
    "        self.m=num/den\n",
    "        self.b=y_train.mean()-self.m*x_train.mean()\n",
    "        print(self.m)\n",
    "        print(self.b)\n",
    "    def predict(self,x_test):\n",
    "        return self.m*x_test+self.b\n"
   ]
  },
  {
   "cell_type": "code",
   "execution_count": 25,
   "id": "00d1af30-f4a3-40ae-a4e4-98ae21df3811",
   "metadata": {},
   "outputs": [],
   "source": [
    "X=df.iloc[:,0].values\n",
    "Y=df.iloc[:,1].values"
   ]
  },
  {
   "cell_type": "code",
   "execution_count": 18,
   "id": "ef1ee48b-d60e-407e-983d-6641a791a48f",
   "metadata": {},
   "outputs": [],
   "source": [
    "from sklearn.model_selection import train_test_split\n",
    "x_train,x_test,y_train,y_test=train_test_split(X,Y,test_size=0.2,random_state=42)"
   ]
  },
  {
   "cell_type": "code",
   "execution_count": 19,
   "id": "043e30a3-54ed-4a76-9eaf-767bec0526e8",
   "metadata": {},
   "outputs": [],
   "source": [
    "lr=regression()"
   ]
  },
  {
   "cell_type": "code",
   "execution_count": 20,
   "id": "a0766303-1c4a-458b-a39b-04809b5f37b3",
   "metadata": {},
   "outputs": [
    {
     "name": "stdout",
     "output_type": "stream",
     "text": [
      "0.5742564727019197\n",
      "-1.0270069374542108\n"
     ]
    }
   ],
   "source": [
    "lr.fit(x_train,y_train)"
   ]
  },
  {
   "cell_type": "code",
   "execution_count": 23,
   "id": "acf94c21-f35a-4750-8e6f-e35f2f24b472",
   "metadata": {},
   "outputs": [
    {
     "data": {
      "text/plain": [
       "2.7803134765595168"
      ]
     },
     "execution_count": 23,
     "metadata": {},
     "output_type": "execute_result"
    }
   ],
   "source": [
    "lr.predict(x_test[0])"
   ]
  },
  {
   "cell_type": "code",
   "execution_count": null,
   "id": "5a5ad762-e2a9-4f90-b8d3-1ec5b31cf809",
   "metadata": {},
   "outputs": [],
   "source": []
  }
 ],
 "metadata": {
  "kernelspec": {
   "display_name": "Python [conda env:base] *",
   "language": "python",
   "name": "conda-base-py"
  },
  "language_info": {
   "codemirror_mode": {
    "name": "ipython",
    "version": 3
   },
   "file_extension": ".py",
   "mimetype": "text/x-python",
   "name": "python",
   "nbconvert_exporter": "python",
   "pygments_lexer": "ipython3",
   "version": "3.12.7"
  }
 },
 "nbformat": 4,
 "nbformat_minor": 5
}
